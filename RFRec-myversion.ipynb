{
 "cells": [
  {
   "cell_type": "code",
   "execution_count": 833,
   "metadata": {},
   "outputs": [],
   "source": [
    "import pandas as pd\n",
    "import torch\n",
    "import torch.nn as nn\n",
    "import torch.optim as optim\n",
    "import pickle\n",
    "from sklearn.utils import shuffle"
   ]
  },
  {
   "cell_type": "code",
   "execution_count": 341,
   "metadata": {},
   "outputs": [],
   "source": [
    "class Loss(nn.Module):\n",
    "    def __init__(self, lambda_u, lambda_L):\n",
    "        super(Loss, self).__init__()\n",
    "        self.lambda_u = lambda_u\n",
    "        self.lambda_L = lambda_L\n",
    "\n",
    "    def forward(self, rating_mat, user_features, local_item_features, avg_item_features):\n",
    "        '''\n",
    "        rating_mat: (num_users, num_items)\n",
    "        user_features: (num_users_per_client, num_latent_factors)\n",
    "        local_item_features: (num_items, num_latent_factors)\n",
    "        avg_item_features: (num_items, num_latent_factors)\n",
    "        '''\n",
    "        non_zero_mask = (rating_mat != -1).type(torch.FloatTensor)\n",
    "        ratings_predicted = torch.sigmoid(torch.mm(user_features, local_item_features.t()))\n",
    "        \n",
    "        diff = (ratings_predicted - rating_mat) ** 2\n",
    "        prediction_error = torch.sum(diff * non_zero_mask)\n",
    "\n",
    "        user_regularization = torch.sum(user_features ** 2)  ## regularization term for user features\n",
    "        item_loss = torch.sum((local_item_features - avg_item_features) ** 2) ## loss term for item features\n",
    "\n",
    "        loss = prediction_error + self.lambda_u * user_regularization + self.lambda_L * item_loss\n",
    "\n",
    "        return loss, prediction_error"
   ]
  },
  {
   "cell_type": "code",
   "execution_count": 491,
   "metadata": {},
   "outputs": [
    {
     "data": {
      "text/html": [
       "<div>\n",
       "<style scoped>\n",
       "    .dataframe tbody tr th:only-of-type {\n",
       "        vertical-align: middle;\n",
       "    }\n",
       "\n",
       "    .dataframe tbody tr th {\n",
       "        vertical-align: top;\n",
       "    }\n",
       "\n",
       "    .dataframe thead th {\n",
       "        text-align: right;\n",
       "    }\n",
       "</style>\n",
       "<table border=\"1\" class=\"dataframe\">\n",
       "  <thead>\n",
       "    <tr style=\"text-align: right;\">\n",
       "      <th></th>\n",
       "      <th>user_id</th>\n",
       "      <th>item_id</th>\n",
       "      <th>rating</th>\n",
       "      <th>timestamp</th>\n",
       "    </tr>\n",
       "  </thead>\n",
       "  <tbody>\n",
       "    <tr>\n",
       "      <th>19453</th>\n",
       "      <td>148</td>\n",
       "      <td>3386</td>\n",
       "      <td>5</td>\n",
       "      <td>977352730</td>\n",
       "    </tr>\n",
       "    <tr>\n",
       "      <th>673072</th>\n",
       "      <td>4042</td>\n",
       "      <td>2</td>\n",
       "      <td>1</td>\n",
       "      <td>965581609</td>\n",
       "    </tr>\n",
       "    <tr>\n",
       "      <th>302717</th>\n",
       "      <td>1797</td>\n",
       "      <td>2925</td>\n",
       "      <td>5</td>\n",
       "      <td>974700734</td>\n",
       "    </tr>\n",
       "    <tr>\n",
       "      <th>442192</th>\n",
       "      <td>2721</td>\n",
       "      <td>1721</td>\n",
       "      <td>4</td>\n",
       "      <td>973278307</td>\n",
       "    </tr>\n",
       "    <tr>\n",
       "      <th>774028</th>\n",
       "      <td>4613</td>\n",
       "      <td>3257</td>\n",
       "      <td>4</td>\n",
       "      <td>964145344</td>\n",
       "    </tr>\n",
       "  </tbody>\n",
       "</table>\n",
       "</div>"
      ],
      "text/plain": [
       "        user_id  item_id  rating  timestamp\n",
       "19453       148     3386       5  977352730\n",
       "673072     4042        2       1  965581609\n",
       "302717     1797     2925       5  974700734\n",
       "442192     2721     1721       4  973278307\n",
       "774028     4613     3257       4  964145344"
      ]
     },
     "execution_count": 491,
     "metadata": {},
     "output_type": "execute_result"
    }
   ],
   "source": [
    "rating_df = pd.read_csv('ml-1m.inter', sep='\\t')\n",
    "rating_df.columns = ['user_id', 'item_id', 'rating', 'timestamp']\n",
    "rating_df = shuffle(rating_df)\n",
    "rating_df.head()"
   ]
  },
  {
   "cell_type": "code",
   "execution_count": 492,
   "metadata": {},
   "outputs": [],
   "source": [
    "# Split the data into training and testing sets\n",
    "ratio = 0.8\n",
    "train_size = int(len(rating_df) * ratio)\n",
    "\n",
    "aggregate_rating_matrix = rating_df.pivot_table(index='user_id', columns='item_id', values='rating', aggfunc='mean')  # transform the dataframe into a matrix\n",
    "num_users, num_items = aggregate_rating_matrix.shape\n",
    "rating_matrix = aggregate_rating_matrix.copy()\n",
    "test_rating_matrix = aggregate_rating_matrix.copy()\n",
    "for i in range(len(rating_df)):\n",
    "    user_id = rating_df.iloc[i,0]\n",
    "    item_id = rating_df.iloc[i,1]\n",
    "    if i < train_size:\n",
    "        test_rating_matrix.loc[user_id,item_id] = None\n",
    "    else:\n",
    "        rating_matrix.loc[user_id,item_id] = None"
   ]
  },
  {
   "cell_type": "code",
   "execution_count": 493,
   "metadata": {},
   "outputs": [],
   "source": [
    "# normalize the ratings using min-max normalization\n",
    "min_rating, max_rating = rating_df['rating'].min(), rating_df['rating'].max()\n",
    "rating_matrix = rating_matrix.apply(lambda x: (x - min_rating) / (max_rating - min_rating))\n",
    "rating_matrix[rating_matrix.isnull()] = -1\n",
    "rating_matrix = torch.FloatTensor(rating_matrix.values)"
   ]
  },
  {
   "cell_type": "code",
   "execution_count": 494,
   "metadata": {},
   "outputs": [],
   "source": [
    "test_rating_matrix[test_rating_matrix.isnull()] = -1\n",
    "test_rating_matrix = torch.FloatTensor(test_rating_matrix.values)\n",
    "\n",
    "nonzero_mask = (test_rating_matrix != -1).type(torch.FloatTensor)"
   ]
  },
  {
   "cell_type": "code",
   "execution_count": 495,
   "metadata": {},
   "outputs": [],
   "source": [
    "## pickle存储rating_matrix\n",
    "with open('rating_matrix.pkl', 'wb') as f:\n",
    "    pickle.dump(rating_matrix, f)\n",
    "\n",
    "with open('test_rating_matrix.pkl', 'wb') as f:\n",
    "    pickle.dump(test_rating_matrix, f)"
   ]
  },
  {
   "cell_type": "code",
   "execution_count": 662,
   "metadata": {},
   "outputs": [
    {
     "data": {
      "text/plain": [
       "<torch._C.Generator at 0x124b3c6d0>"
      ]
     },
     "execution_count": 662,
     "metadata": {},
     "output_type": "execute_result"
    }
   ],
   "source": [
    "torch.manual_seed(42)"
   ]
  },
  {
   "cell_type": "code",
   "execution_count": 824,
   "metadata": {},
   "outputs": [
    {
     "name": "stderr",
     "output_type": "stream",
     "text": [
      "/Users/zhaoshenghao/PyCode/ordinary/lib/python3.11/site-packages/torch/storage.py:414: FutureWarning: You are using `torch.load` with `weights_only=False` (the current default value), which uses the default pickle module implicitly. It is possible to construct malicious pickle data which will execute arbitrary code during unpickling (See https://github.com/pytorch/pytorch/blob/main/SECURITY.md#untrusted-models for more details). In a future release, the default value for `weights_only` will be flipped to `True`. This limits the functions that could be executed during unpickling. Arbitrary objects will no longer be allowed to be loaded via this mode unless they are explicitly allowlisted by the user via `torch.serialization.add_safe_globals`. We recommend you start setting `weights_only=True` for any use case where you don't have full control of the loaded file. Please open an issue on GitHub for any issues related to this experimental feature.\n",
      "  return torch.load(io.BytesIO(b))\n"
     ]
    }
   ],
   "source": [
    "with open('rating_matrix.pkl', 'rb') as f:\n",
    "    rating_matrix = pickle.load(f)\n",
    "with open('test_rating_matrix.pkl', 'rb') as f:\n",
    "    test_rating_matrix = pickle.load(f)"
   ]
  },
  {
   "cell_type": "code",
   "execution_count": 825,
   "metadata": {},
   "outputs": [
    {
     "data": {
      "text/plain": [
       "(6040, 3706)"
      ]
     },
     "execution_count": 825,
     "metadata": {},
     "output_type": "execute_result"
    }
   ],
   "source": [
    "num_users, num_items"
   ]
  },
  {
   "cell_type": "code",
   "execution_count": 826,
   "metadata": {},
   "outputs": [],
   "source": [
    "lr = 0.0125\n",
    "lambda_u = 0.1\n",
    "lambda_L = 20\n",
    "num_epochs = 150\n",
    "latent_factors = 20\n",
    "num_clients = 200\n",
    "m = num_users // num_clients"
   ]
  },
  {
   "cell_type": "code",
   "execution_count": 827,
   "metadata": {},
   "outputs": [],
   "source": [
    "# initializaiton\n",
    "\n",
    "user_features = []\n",
    "item_features = []\n",
    "std = 0.01\n",
    "\n",
    "for i in range(num_clients): # initialize user features and local item features\n",
    "    user_features.append(torch.randn(m, latent_factors, requires_grad=True))  # multipyling std here will make the Tensor non-leaf, which will cause error\n",
    "    item_features.append(torch.randn(num_items, latent_factors, requires_grad=True))\n",
    "with torch.no_grad():\n",
    "    for i in range(num_clients):\n",
    "        user_features[i].data.mul_(std) # mul_ does not change requires_grad to False\n",
    "        item_features[i].data.mul_(std)\n",
    "\n",
    "avg_item_features = torch.randn(num_items, latent_factors).data.mul(std) # mul will change requires_grad to False\n",
    "for i in range(num_clients):\n",
    "    avg_item_features += item_features[i]\n",
    "avg_item_features /= num_clients\n",
    "\n",
    "RFRec_loss = Loss(lambda_u=lambda_u, lambda_L=lambda_L)\n",
    "\n",
    "client_optimizers = []\n",
    "for i in range(num_clients):\n",
    "    optimizer = optim.Adam([user_features[i], item_features[i]], lr=lr)\n",
    "    client_optimizers.append(optimizer)"
   ]
  },
  {
   "cell_type": "code",
   "execution_count": null,
   "metadata": {},
   "outputs": [],
   "source": [
    "def train(epoch):\n",
    "    avg_loss = avg_prediction_error = 0\n",
    "    global avg_item_features\n",
    "    \n",
    "    for i in range(num_clients):\n",
    "        client_optimizers[i].zero_grad()\n",
    "        loss, prediction_error = RFRec_loss(rating_matrix[i*m: (i+1)*m], user_features[i], item_features[i], avg_item_features)\n",
    "\n",
    "        avg_loss += loss.item() / num_clients\n",
    "        avg_prediction_error += prediction_error / num_clients\n",
    "\n",
    "        loss.backward(retain_graph=True)\n",
    "        client_optimizers[i].step()\n",
    "    \n",
    "    with torch.no_grad():\n",
    "        avg_item_features = sum(item_features) / num_clients  # update the global item features\n",
    "\n",
    "    if epoch % 10 == 0:\n",
    "        print('Epoch: {}, Loss: {:.4f}, Prediction Error: {:.4f}'.format(epoch, avg_loss, avg_prediction_error))"
   ]
  },
  {
   "cell_type": "code",
   "execution_count": 829,
   "metadata": {},
   "outputs": [
    {
     "name": "stdout",
     "output_type": "stream",
     "text": [
      "Epoch: 0, Loss: 541.4395, Prediction Error: 393.9899\n",
      "Epoch: 10, Loss: 420.4923, Prediction Error: 393.9110\n",
      "Epoch: 20, Loss: 401.3866, Prediction Error: 392.3230\n",
      "Epoch: 30, Loss: 377.0950, Prediction Error: 371.8815\n",
      "Epoch: 40, Loss: 306.3105, Prediction Error: 297.8666\n",
      "Epoch: 50, Loss: 254.5391, Prediction Error: 241.1747\n",
      "Epoch: 60, Loss: 238.3780, Prediction Error: 224.1911\n",
      "Epoch: 70, Loss: 228.3599, Prediction Error: 215.1773\n",
      "Epoch: 80, Loss: 220.3378, Prediction Error: 207.0414\n",
      "Epoch: 90, Loss: 211.8927, Prediction Error: 197.5705\n",
      "Epoch: 100, Loss: 204.3699, Prediction Error: 189.0035\n",
      "Epoch: 110, Loss: 198.1189, Prediction Error: 182.0005\n",
      "Epoch: 120, Loss: 192.8855, Prediction Error: 176.2057\n",
      "Epoch: 130, Loss: 188.5144, Prediction Error: 171.4221\n",
      "Epoch: 140, Loss: 184.6480, Prediction Error: 167.2883\n"
     ]
    }
   ],
   "source": [
    "for epoch in range(num_epochs):\n",
    "    train(epoch)"
   ]
  },
  {
   "cell_type": "code",
   "execution_count": 830,
   "metadata": {},
   "outputs": [],
   "source": [
    "def evaluate(matrix, user_features, item_features, client_id):\n",
    "    predicted_ratings = torch.sigmoid(torch.mm(user_features, item_features.t()))\n",
    "    pred = (predicted_ratings * (max_rating - min_rating) + min_rating) * nonzero_mask[client_id*m: (client_id+1)*m]\n",
    "    true_value = matrix * nonzero_mask[client_id*m: (client_id+1)*m]\n",
    "    \n",
    "    abs_error = torch.sum(torch.abs(pred - true_value))\n",
    "    square_error = torch.sum((pred - true_value)**2)\n",
    "    n_nonzero = torch.sum(nonzero_mask[client_id*m: (client_id+1)*m])\n",
    "    return abs_error, square_error, n_nonzero"
   ]
  },
  {
   "cell_type": "code",
   "execution_count": 831,
   "metadata": {},
   "outputs": [
    {
     "name": "stdout",
     "output_type": "stream",
     "text": [
      "MAE:  0.6922777\n",
      "RMSE:  0.87316585\n"
     ]
    }
   ],
   "source": [
    "MAE = MSE = num_nonzero = 0\n",
    "\n",
    "for i in range(num_clients):\n",
    "    abs_error, square_error, n_nonzero = evaluate(test_rating_matrix[i*m: (i+1)*m], user_features[i], item_features[i], i)\n",
    "    MAE += abs_error\n",
    "    MSE += square_error\n",
    "    num_nonzero += n_nonzero\n",
    "\n",
    "MAE /= num_nonzero\n",
    "RMSE = torch.sqrt(MSE / num_nonzero)\n",
    "print(\"MAE: \", MAE.data.numpy())\n",
    "print(\"RMSE: \", RMSE.data.numpy())"
   ]
  }
 ],
 "metadata": {
  "kernelspec": {
   "display_name": "ordinary",
   "language": "python",
   "name": "python3"
  },
  "language_info": {
   "codemirror_mode": {
    "name": "ipython",
    "version": 3
   },
   "file_extension": ".py",
   "mimetype": "text/x-python",
   "name": "python",
   "nbconvert_exporter": "python",
   "pygments_lexer": "ipython3",
   "version": "3.11.9"
  }
 },
 "nbformat": 4,
 "nbformat_minor": 2
}
