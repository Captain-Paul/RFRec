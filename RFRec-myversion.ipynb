{
 "cells": [
  {
   "cell_type": "code",
   "execution_count": 602,
   "metadata": {},
   "outputs": [],
   "source": [
    "import pandas as pd\n",
    "import torch\n",
    "import torch.nn as nn\n",
    "import torch.optim as optim\n",
    "import numpy as np\n",
    "from sklearn.utils import shuffle"
   ]
  },
  {
   "cell_type": "code",
   "execution_count": 603,
   "metadata": {},
   "outputs": [],
   "source": [
    "class Loss(nn.Module):\n",
    "    def __init__(self, lambda_u, lambda_L):\n",
    "        super(Loss, self).__init__()\n",
    "        self.lambda_u = lambda_u\n",
    "        self.lambda_L = lambda_L\n",
    "\n",
    "    def forward(self, rating_mat, user_features, local_item_features, avg_item_features):\n",
    "        '''\n",
    "        rating_mat: (num_users, num_items)\n",
    "        user_features: (num_users_per_client, num_latent_factors)\n",
    "        local_item_features: (num_items, num_latent_factors)\n",
    "        avg_item_features: (num_items, num_latent_factors)\n",
    "        '''\n",
    "        non_zero_mask = (rating_mat != -1).type(torch.FloatTensor)\n",
    "        ratings_predicted = torch.sigmoid(torch.mm(user_features, local_item_features.t()))\n",
    "        \n",
    "        diff = (ratings_predicted - rating_mat) ** 2\n",
    "        prediction_error = torch.sum(diff * non_zero_mask)\n",
    "\n",
    "        user_regularization = torch.sum(user_features ** 2)  ## regularization term for user features\n",
    "        item_loss = torch.sum((local_item_features - avg_item_features) ** 2) ## loss term for item features\n",
    "\n",
    "        loss = prediction_error + self.lambda_u * user_regularization + self.lambda_L * item_loss\n",
    "\n",
    "        return loss, prediction_error"
   ]
  },
  {
   "cell_type": "code",
   "execution_count": 604,
   "metadata": {},
   "outputs": [
    {
     "data": {
      "text/html": [
       "<div>\n",
       "<style scoped>\n",
       "    .dataframe tbody tr th:only-of-type {\n",
       "        vertical-align: middle;\n",
       "    }\n",
       "\n",
       "    .dataframe tbody tr th {\n",
       "        vertical-align: top;\n",
       "    }\n",
       "\n",
       "    .dataframe thead th {\n",
       "        text-align: right;\n",
       "    }\n",
       "</style>\n",
       "<table border=\"1\" class=\"dataframe\">\n",
       "  <thead>\n",
       "    <tr style=\"text-align: right;\">\n",
       "      <th></th>\n",
       "      <th>user_id</th>\n",
       "      <th>item_id</th>\n",
       "      <th>rating</th>\n",
       "      <th>timestamp</th>\n",
       "    </tr>\n",
       "  </thead>\n",
       "  <tbody>\n",
       "    <tr>\n",
       "      <th>76045</th>\n",
       "      <td>696</td>\n",
       "      <td>520</td>\n",
       "      <td>5</td>\n",
       "      <td>886404617</td>\n",
       "    </tr>\n",
       "    <tr>\n",
       "      <th>10114</th>\n",
       "      <td>18</td>\n",
       "      <td>215</td>\n",
       "      <td>3</td>\n",
       "      <td>880130930</td>\n",
       "    </tr>\n",
       "    <tr>\n",
       "      <th>6746</th>\n",
       "      <td>160</td>\n",
       "      <td>175</td>\n",
       "      <td>4</td>\n",
       "      <td>876860808</td>\n",
       "    </tr>\n",
       "    <tr>\n",
       "      <th>97313</th>\n",
       "      <td>846</td>\n",
       "      <td>197</td>\n",
       "      <td>4</td>\n",
       "      <td>883948417</td>\n",
       "    </tr>\n",
       "    <tr>\n",
       "      <th>64595</th>\n",
       "      <td>617</td>\n",
       "      <td>174</td>\n",
       "      <td>1</td>\n",
       "      <td>883788820</td>\n",
       "    </tr>\n",
       "  </tbody>\n",
       "</table>\n",
       "</div>"
      ],
      "text/plain": [
       "       user_id  item_id  rating  timestamp\n",
       "76045      696      520       5  886404617\n",
       "10114       18      215       3  880130930\n",
       "6746       160      175       4  876860808\n",
       "97313      846      197       4  883948417\n",
       "64595      617      174       1  883788820"
      ]
     },
     "execution_count": 604,
     "metadata": {},
     "output_type": "execute_result"
    }
   ],
   "source": [
    "rating_df = pd.read_csv('ml-100k.inter', sep='\\t')\n",
    "rating_df.columns = ['user_id', 'item_id', 'rating', 'timestamp']\n",
    "rating_df = shuffle(rating_df)\n",
    "rating_df.head()"
   ]
  },
  {
   "cell_type": "code",
   "execution_count": 605,
   "metadata": {},
   "outputs": [],
   "source": [
    "# Split the data into training and testing sets\n",
    "ratio = 0.8\n",
    "train_size = int(len(rating_df) * ratio)\n",
    "\n",
    "aggregate_rating_matrix = rating_df.pivot_table(index='user_id', columns='item_id', values='rating', aggfunc='mean')  # transform the dataframe into a matrix\n",
    "num_users, num_items = aggregate_rating_matrix.shape\n",
    "rating_matrix = aggregate_rating_matrix.copy()\n",
    "test_rating_matrix = aggregate_rating_matrix.copy()\n",
    "for i in range(len(rating_df)):\n",
    "    user_id = rating_df.iloc[i,0]\n",
    "    item_id = rating_df.iloc[i,1]\n",
    "    if i < train_size:\n",
    "        test_rating_matrix.loc[user_id,item_id] = None\n",
    "    else:\n",
    "        rating_matrix.loc[user_id,item_id] = None"
   ]
  },
  {
   "cell_type": "code",
   "execution_count": 606,
   "metadata": {},
   "outputs": [],
   "source": [
    "# normalize the ratings using min-max normalization\n",
    "min_rating, max_rating = rating_df['rating'].min(), rating_df['rating'].max()\n",
    "rating_matrix = rating_matrix.apply(lambda x: (x - min_rating) / (max_rating - min_rating))\n",
    "rating_matrix[rating_matrix.isnull()] = -1\n",
    "rating_matrix = torch.FloatTensor(rating_matrix.values)"
   ]
  },
  {
   "cell_type": "code",
   "execution_count": 607,
   "metadata": {},
   "outputs": [
    {
     "data": {
      "text/plain": [
       "(943, 1682)"
      ]
     },
     "execution_count": 607,
     "metadata": {},
     "output_type": "execute_result"
    }
   ],
   "source": [
    "num_users, num_items"
   ]
  },
  {
   "cell_type": "code",
   "execution_count": 608,
   "metadata": {},
   "outputs": [],
   "source": [
    "lr = 0.05\n",
    "num_epochs = 100\n",
    "latent_factors = 20\n",
    "num_clients = 50\n",
    "m = num_users // num_clients"
   ]
  },
  {
   "cell_type": "code",
   "execution_count": 609,
   "metadata": {},
   "outputs": [],
   "source": [
    "# initializaiton\n",
    "\n",
    "user_features = []\n",
    "item_features = []\n",
    "std = 0.01\n",
    "\n",
    "for i in range(num_clients): # initialize user features and local item features\n",
    "    user_features.append(torch.randn(m, latent_factors, requires_grad=True))  # multipyling std here will make the Tensor non-leaf, which will cause error\n",
    "    item_features.append(torch.randn(num_items, latent_factors, requires_grad=True))\n",
    "with torch.no_grad():\n",
    "    for i in range(num_clients):\n",
    "        user_features[i].data.mul_(std) # mul_ does not change requires_grad to False\n",
    "        item_features[i].data.mul_(std)\n",
    "\n",
    "avg_item_features = torch.randn(num_items, latent_factors).data.mul(std) # mul will change requires_grad to False\n",
    "for i in range(num_clients):\n",
    "    avg_item_features += item_features[i]\n",
    "avg_item_features /= num_clients\n",
    "\n",
    "RFRec_loss = Loss(lambda_u=0.1, lambda_L=10)\n",
    "\n",
    "client_optimizers = []\n",
    "for i in range(num_clients):\n",
    "    optimizer = optim.Adam([user_features[i], item_features[i]], lr=lr)\n",
    "    client_optimizers.append(optimizer)"
   ]
  },
  {
   "cell_type": "code",
   "execution_count": 610,
   "metadata": {},
   "outputs": [],
   "source": [
    "def train(epoch):\n",
    "    avg_loss = avg_prediction_error = 0\n",
    "    tmp = torch.zeros(item_features[0].shape)\n",
    "    global avg_item_features\n",
    "    \n",
    "    for i in range(num_clients):\n",
    "        client_optimizers[i].zero_grad()\n",
    "        loss, prediction_error = RFRec_loss(rating_matrix[i*m: (i+1)*m], user_features[i], item_features[i], avg_item_features)\n",
    "\n",
    "        avg_loss += loss.item() / num_clients\n",
    "        avg_prediction_error += prediction_error / num_clients\n",
    "\n",
    "        loss.backward(retain_graph=True)\n",
    "        client_optimizers[i].step()\n",
    "\n",
    "        tmp += item_features[i]\n",
    "    \n",
    "    avg_item_features = tmp / num_clients  # update the global item features\n",
    "\n",
    "    if epoch % 10 == 0:\n",
    "        print('Epoch: {}, Loss: {:.4f}, Prediction Error: {:.4f}'.format(epoch, avg_loss, avg_prediction_error))"
   ]
  },
  {
   "cell_type": "code",
   "execution_count": 611,
   "metadata": {},
   "outputs": [
    {
     "name": "stdout",
     "output_type": "stream",
     "text": [
      "Epoch: 0, Loss: 182.3888, Prediction Error: 149.3723\n",
      "Epoch: 10, Loss: 265.8792, Prediction Error: 148.8695\n",
      "Epoch: 20, Loss: 174.7490, Prediction Error: 129.6026\n",
      "Epoch: 30, Loss: 111.4726, Prediction Error: 86.8935\n",
      "Epoch: 40, Loss: 94.1525, Prediction Error: 78.4755\n",
      "Epoch: 50, Loss: 83.0906, Prediction Error: 68.8726\n",
      "Epoch: 60, Loss: 75.0250, Prediction Error: 60.5348\n",
      "Epoch: 70, Loss: 68.5111, Prediction Error: 53.9169\n",
      "Epoch: 80, Loss: 63.2727, Prediction Error: 48.6967\n",
      "Epoch: 90, Loss: 58.9758, Prediction Error: 44.7972\n"
     ]
    }
   ],
   "source": [
    "for epoch in range(num_epochs):\n",
    "    train(epoch)"
   ]
  },
  {
   "cell_type": "code",
   "execution_count": 612,
   "metadata": {},
   "outputs": [
    {
     "name": "stdout",
     "output_type": "stream",
     "text": [
      "torch.Size([943, 1682])\n"
     ]
    }
   ],
   "source": [
    "test_rating_matrix[test_rating_matrix.isnull()] = -1\n",
    "test_rating_matrix = torch.FloatTensor(test_rating_matrix.values)\n",
    "print(test_rating_matrix.shape)\n",
    "\n",
    "nonzero_mask = (test_rating_matrix != -1).type(torch.FloatTensor)"
   ]
  },
  {
   "cell_type": "code",
   "execution_count": 613,
   "metadata": {},
   "outputs": [],
   "source": [
    "def evaluate(matrix, user_features, item_features, client_id):\n",
    "    predicted_ratings = torch.sigmoid(torch.mm(user_features, item_features.t()))\n",
    "    pred = (predicted_ratings * (max_rating - min_rating) + min_rating) * nonzero_mask[client_id*m: (client_id+1)*m]\n",
    "    true_value = matrix * nonzero_mask[client_id*m: (client_id+1)*m]\n",
    "    \n",
    "    abs_error = torch.sum(torch.abs(pred - true_value))\n",
    "    square_error = torch.sum((pred - true_value)**2)\n",
    "    n_nonzero = torch.sum(nonzero_mask[client_id*m: (client_id+1)*m])\n",
    "    return abs_error, square_error, n_nonzero"
   ]
  },
  {
   "cell_type": "code",
   "execution_count": 614,
   "metadata": {},
   "outputs": [
    {
     "name": "stdout",
     "output_type": "stream",
     "text": [
      "MAE:  0.74927455\n",
      "RMSE:  0.95442826\n"
     ]
    }
   ],
   "source": [
    "MAE = MSE = num_nonzero = 0\n",
    "\n",
    "for i in range(num_clients):\n",
    "    abs_error, square_error, n_nonzero = evaluate(test_rating_matrix[i*m: (i+1)*m], user_features[i], item_features[i], i)\n",
    "    MAE += abs_error\n",
    "    MSE += square_error\n",
    "    num_nonzero += n_nonzero\n",
    "\n",
    "MAE /= num_nonzero\n",
    "RMSE = torch.sqrt(MSE / num_nonzero)\n",
    "print(\"MAE: \", MAE.data.numpy())\n",
    "print(\"RMSE: \", RMSE.data.numpy())"
   ]
  }
 ],
 "metadata": {
  "kernelspec": {
   "display_name": "ordinary",
   "language": "python",
   "name": "python3"
  },
  "language_info": {
   "codemirror_mode": {
    "name": "ipython",
    "version": 3
   },
   "file_extension": ".py",
   "mimetype": "text/x-python",
   "name": "python",
   "nbconvert_exporter": "python",
   "pygments_lexer": "ipython3",
   "version": "3.11.9"
  }
 },
 "nbformat": 4,
 "nbformat_minor": 2
}
